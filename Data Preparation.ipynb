{
 "cells": [
  {
   "cell_type": "markdown",
   "id": "bc151ebc",
   "metadata": {},
   "source": [
    "# Author: Toni Davis \n",
    "## Harnessing the Power of AI for Effective Lead Conversion Prediction in General Sales and Marketing Project"
   ]
  },
  {
   "cell_type": "markdown",
   "id": "612951ab",
   "metadata": {},
   "source": [
    "## Data Set 1: Synthetic Data Set Representing Online Shopping Customers"
   ]
  },
  {
   "cell_type": "code",
   "execution_count": 53,
   "id": "054c2766",
   "metadata": {},
   "outputs": [],
   "source": [
    "import pandas as pd\n",
    "import numpy as np\n",
    "from sklearn.model_selection import train_test_split\n",
    "import seaborn as sns\n",
    "from sklearn.linear_model import LogisticRegression"
   ]
  },
  {
   "cell_type": "code",
   "execution_count": 54,
   "id": "ca3b0991",
   "metadata": {},
   "outputs": [],
   "source": [
    "dataSet1tr = pd.read_csv(\"customer_conversion_training_dataset.csv\")\n",
    "dataSet1ts = pd.read_csv(\"customer_conversion_testing_dataset.csv\")"
   ]
  },
  {
   "cell_type": "code",
   "execution_count": 55,
   "id": "aa0e3a4b",
   "metadata": {},
   "outputs": [
    {
     "name": "stdout",
     "output_type": "stream",
     "text": [
      "<class 'pandas.core.frame.DataFrame'>\n",
      "RangeIndex: 100000 entries, 0 to 99999\n",
      "Data columns (total 19 columns):\n",
      " #   Column                 Non-Null Count   Dtype  \n",
      "---  ------                 --------------   -----  \n",
      " 0   LeadID                 100000 non-null  int64  \n",
      " 1   Age                    100000 non-null  int64  \n",
      " 2   Gender                 100000 non-null  object \n",
      " 3   Location               100000 non-null  object \n",
      " 4   LeadSource             100000 non-null  object \n",
      " 5   TimeSpent (minutes)    100000 non-null  int64  \n",
      " 6   PagesViewed            100000 non-null  int64  \n",
      " 7   LeadStatus             100000 non-null  object \n",
      " 8   EmailSent              100000 non-null  int64  \n",
      " 9   DeviceType             100000 non-null  object \n",
      " 10  ReferralSource         100000 non-null  object \n",
      " 11  FormSubmissions        100000 non-null  int64  \n",
      " 12  Downloads              100000 non-null  int64  \n",
      " 13  CTR_ProductPage        100000 non-null  float64\n",
      " 14  ResponseTime (hours)   100000 non-null  int64  \n",
      " 15  FollowUpEmails         100000 non-null  int64  \n",
      " 16  SocialMediaEngagement  100000 non-null  int64  \n",
      " 17  PaymentHistory         100000 non-null  object \n",
      " 18  Conversion (Target)    100000 non-null  int64  \n",
      "dtypes: float64(1), int64(11), object(7)\n",
      "memory usage: 14.5+ MB\n"
     ]
    }
   ],
   "source": [
    "dataSet1tr.info()"
   ]
  },
  {
   "cell_type": "code",
   "execution_count": 56,
   "id": "d7460ac2",
   "metadata": {},
   "outputs": [
    {
     "data": {
      "text/html": [
       "<div>\n",
       "<style scoped>\n",
       "    .dataframe tbody tr th:only-of-type {\n",
       "        vertical-align: middle;\n",
       "    }\n",
       "\n",
       "    .dataframe tbody tr th {\n",
       "        vertical-align: top;\n",
       "    }\n",
       "\n",
       "    .dataframe thead th {\n",
       "        text-align: right;\n",
       "    }\n",
       "</style>\n",
       "<table border=\"1\" class=\"dataframe\">\n",
       "  <thead>\n",
       "    <tr style=\"text-align: right;\">\n",
       "      <th></th>\n",
       "      <th>LeadID</th>\n",
       "      <th>Age</th>\n",
       "      <th>Gender</th>\n",
       "      <th>Location</th>\n",
       "      <th>LeadSource</th>\n",
       "      <th>TimeSpent (minutes)</th>\n",
       "      <th>PagesViewed</th>\n",
       "      <th>LeadStatus</th>\n",
       "      <th>EmailSent</th>\n",
       "      <th>DeviceType</th>\n",
       "      <th>ReferralSource</th>\n",
       "      <th>FormSubmissions</th>\n",
       "      <th>Downloads</th>\n",
       "      <th>CTR_ProductPage</th>\n",
       "      <th>ResponseTime (hours)</th>\n",
       "      <th>FollowUpEmails</th>\n",
       "      <th>SocialMediaEngagement</th>\n",
       "      <th>PaymentHistory</th>\n",
       "      <th>Conversion (Target)</th>\n",
       "    </tr>\n",
       "  </thead>\n",
       "  <tbody>\n",
       "    <tr>\n",
       "      <th>0</th>\n",
       "      <td>1</td>\n",
       "      <td>60</td>\n",
       "      <td>Female</td>\n",
       "      <td>Faisalabad</td>\n",
       "      <td>Referral</td>\n",
       "      <td>30</td>\n",
       "      <td>13</td>\n",
       "      <td>Warm</td>\n",
       "      <td>1</td>\n",
       "      <td>Desktop</td>\n",
       "      <td>Google</td>\n",
       "      <td>4</td>\n",
       "      <td>0</td>\n",
       "      <td>0.3</td>\n",
       "      <td>7</td>\n",
       "      <td>10</td>\n",
       "      <td>195</td>\n",
       "      <td>No Payment</td>\n",
       "      <td>0</td>\n",
       "    </tr>\n",
       "    <tr>\n",
       "      <th>1</th>\n",
       "      <td>2</td>\n",
       "      <td>27</td>\n",
       "      <td>Female</td>\n",
       "      <td>Islamabad</td>\n",
       "      <td>Referral</td>\n",
       "      <td>28</td>\n",
       "      <td>4</td>\n",
       "      <td>Hot</td>\n",
       "      <td>7</td>\n",
       "      <td>Desktop</td>\n",
       "      <td>Direct</td>\n",
       "      <td>2</td>\n",
       "      <td>2</td>\n",
       "      <td>0.3</td>\n",
       "      <td>13</td>\n",
       "      <td>3</td>\n",
       "      <td>103</td>\n",
       "      <td>No Payment</td>\n",
       "      <td>0</td>\n",
       "    </tr>\n",
       "    <tr>\n",
       "      <th>2</th>\n",
       "      <td>3</td>\n",
       "      <td>21</td>\n",
       "      <td>Female</td>\n",
       "      <td>Rawalpindi</td>\n",
       "      <td>Referral</td>\n",
       "      <td>45</td>\n",
       "      <td>10</td>\n",
       "      <td>Warm</td>\n",
       "      <td>9</td>\n",
       "      <td>Tablet</td>\n",
       "      <td>Direct</td>\n",
       "      <td>4</td>\n",
       "      <td>2</td>\n",
       "      <td>0.6</td>\n",
       "      <td>10</td>\n",
       "      <td>8</td>\n",
       "      <td>33</td>\n",
       "      <td>No Payment</td>\n",
       "      <td>0</td>\n",
       "    </tr>\n",
       "    <tr>\n",
       "      <th>3</th>\n",
       "      <td>4</td>\n",
       "      <td>37</td>\n",
       "      <td>Female</td>\n",
       "      <td>Faisalabad</td>\n",
       "      <td>Email</td>\n",
       "      <td>45</td>\n",
       "      <td>15</td>\n",
       "      <td>Warm</td>\n",
       "      <td>5</td>\n",
       "      <td>Desktop</td>\n",
       "      <td>ReferralSite</td>\n",
       "      <td>1</td>\n",
       "      <td>3</td>\n",
       "      <td>0.3</td>\n",
       "      <td>11</td>\n",
       "      <td>1</td>\n",
       "      <td>189</td>\n",
       "      <td>Good</td>\n",
       "      <td>0</td>\n",
       "    </tr>\n",
       "    <tr>\n",
       "      <th>4</th>\n",
       "      <td>5</td>\n",
       "      <td>35</td>\n",
       "      <td>Male</td>\n",
       "      <td>Karachi</td>\n",
       "      <td>Referral</td>\n",
       "      <td>31</td>\n",
       "      <td>11</td>\n",
       "      <td>Cold</td>\n",
       "      <td>2</td>\n",
       "      <td>Tablet</td>\n",
       "      <td>Google</td>\n",
       "      <td>4</td>\n",
       "      <td>3</td>\n",
       "      <td>0.5</td>\n",
       "      <td>9</td>\n",
       "      <td>2</td>\n",
       "      <td>83</td>\n",
       "      <td>No Payment</td>\n",
       "      <td>0</td>\n",
       "    </tr>\n",
       "    <tr>\n",
       "      <th>...</th>\n",
       "      <td>...</td>\n",
       "      <td>...</td>\n",
       "      <td>...</td>\n",
       "      <td>...</td>\n",
       "      <td>...</td>\n",
       "      <td>...</td>\n",
       "      <td>...</td>\n",
       "      <td>...</td>\n",
       "      <td>...</td>\n",
       "      <td>...</td>\n",
       "      <td>...</td>\n",
       "      <td>...</td>\n",
       "      <td>...</td>\n",
       "      <td>...</td>\n",
       "      <td>...</td>\n",
       "      <td>...</td>\n",
       "      <td>...</td>\n",
       "      <td>...</td>\n",
       "      <td>...</td>\n",
       "    </tr>\n",
       "    <tr>\n",
       "      <th>99995</th>\n",
       "      <td>99996</td>\n",
       "      <td>56</td>\n",
       "      <td>Male</td>\n",
       "      <td>Multan</td>\n",
       "      <td>Referral</td>\n",
       "      <td>26</td>\n",
       "      <td>5</td>\n",
       "      <td>Cold</td>\n",
       "      <td>3</td>\n",
       "      <td>Desktop</td>\n",
       "      <td>ReferralSite</td>\n",
       "      <td>1</td>\n",
       "      <td>1</td>\n",
       "      <td>0.7</td>\n",
       "      <td>1</td>\n",
       "      <td>3</td>\n",
       "      <td>51</td>\n",
       "      <td>Good</td>\n",
       "      <td>0</td>\n",
       "    </tr>\n",
       "    <tr>\n",
       "      <th>99996</th>\n",
       "      <td>99997</td>\n",
       "      <td>56</td>\n",
       "      <td>Male</td>\n",
       "      <td>Lahore</td>\n",
       "      <td>Organic</td>\n",
       "      <td>56</td>\n",
       "      <td>5</td>\n",
       "      <td>Hot</td>\n",
       "      <td>7</td>\n",
       "      <td>Mobile</td>\n",
       "      <td>ReferralSite</td>\n",
       "      <td>2</td>\n",
       "      <td>0</td>\n",
       "      <td>0.4</td>\n",
       "      <td>1</td>\n",
       "      <td>4</td>\n",
       "      <td>91</td>\n",
       "      <td>Good</td>\n",
       "      <td>0</td>\n",
       "    </tr>\n",
       "    <tr>\n",
       "      <th>99997</th>\n",
       "      <td>99998</td>\n",
       "      <td>32</td>\n",
       "      <td>Female</td>\n",
       "      <td>Gujranwala</td>\n",
       "      <td>Social Media</td>\n",
       "      <td>54</td>\n",
       "      <td>10</td>\n",
       "      <td>Warm</td>\n",
       "      <td>5</td>\n",
       "      <td>Mobile</td>\n",
       "      <td>ReferralSite</td>\n",
       "      <td>3</td>\n",
       "      <td>2</td>\n",
       "      <td>0.5</td>\n",
       "      <td>16</td>\n",
       "      <td>9</td>\n",
       "      <td>61</td>\n",
       "      <td>No Payment</td>\n",
       "      <td>0</td>\n",
       "    </tr>\n",
       "    <tr>\n",
       "      <th>99998</th>\n",
       "      <td>99999</td>\n",
       "      <td>53</td>\n",
       "      <td>Male</td>\n",
       "      <td>Karachi</td>\n",
       "      <td>Referral</td>\n",
       "      <td>18</td>\n",
       "      <td>2</td>\n",
       "      <td>Hot</td>\n",
       "      <td>2</td>\n",
       "      <td>Desktop</td>\n",
       "      <td>Direct</td>\n",
       "      <td>1</td>\n",
       "      <td>3</td>\n",
       "      <td>0.3</td>\n",
       "      <td>18</td>\n",
       "      <td>1</td>\n",
       "      <td>187</td>\n",
       "      <td>Good</td>\n",
       "      <td>0</td>\n",
       "    </tr>\n",
       "    <tr>\n",
       "      <th>99999</th>\n",
       "      <td>100000</td>\n",
       "      <td>53</td>\n",
       "      <td>Male</td>\n",
       "      <td>Islamabad</td>\n",
       "      <td>Email</td>\n",
       "      <td>10</td>\n",
       "      <td>2</td>\n",
       "      <td>Hot</td>\n",
       "      <td>0</td>\n",
       "      <td>Desktop</td>\n",
       "      <td>Facebook</td>\n",
       "      <td>5</td>\n",
       "      <td>3</td>\n",
       "      <td>0.7</td>\n",
       "      <td>5</td>\n",
       "      <td>3</td>\n",
       "      <td>122</td>\n",
       "      <td>Good</td>\n",
       "      <td>0</td>\n",
       "    </tr>\n",
       "  </tbody>\n",
       "</table>\n",
       "<p>100000 rows × 19 columns</p>\n",
       "</div>"
      ],
      "text/plain": [
       "       LeadID  Age  Gender    Location    LeadSource  TimeSpent (minutes)  \\\n",
       "0           1   60  Female  Faisalabad      Referral                   30   \n",
       "1           2   27  Female   Islamabad      Referral                   28   \n",
       "2           3   21  Female  Rawalpindi      Referral                   45   \n",
       "3           4   37  Female  Faisalabad         Email                   45   \n",
       "4           5   35    Male     Karachi      Referral                   31   \n",
       "...       ...  ...     ...         ...           ...                  ...   \n",
       "99995   99996   56    Male      Multan      Referral                   26   \n",
       "99996   99997   56    Male      Lahore       Organic                   56   \n",
       "99997   99998   32  Female  Gujranwala  Social Media                   54   \n",
       "99998   99999   53    Male     Karachi      Referral                   18   \n",
       "99999  100000   53    Male   Islamabad         Email                   10   \n",
       "\n",
       "       PagesViewed LeadStatus  EmailSent DeviceType ReferralSource  \\\n",
       "0               13       Warm          1    Desktop         Google   \n",
       "1                4        Hot          7    Desktop         Direct   \n",
       "2               10       Warm          9     Tablet         Direct   \n",
       "3               15       Warm          5    Desktop   ReferralSite   \n",
       "4               11       Cold          2     Tablet         Google   \n",
       "...            ...        ...        ...        ...            ...   \n",
       "99995            5       Cold          3    Desktop   ReferralSite   \n",
       "99996            5        Hot          7     Mobile   ReferralSite   \n",
       "99997           10       Warm          5     Mobile   ReferralSite   \n",
       "99998            2        Hot          2    Desktop         Direct   \n",
       "99999            2        Hot          0    Desktop       Facebook   \n",
       "\n",
       "       FormSubmissions  Downloads  CTR_ProductPage  ResponseTime (hours)  \\\n",
       "0                    4          0              0.3                     7   \n",
       "1                    2          2              0.3                    13   \n",
       "2                    4          2              0.6                    10   \n",
       "3                    1          3              0.3                    11   \n",
       "4                    4          3              0.5                     9   \n",
       "...                ...        ...              ...                   ...   \n",
       "99995                1          1              0.7                     1   \n",
       "99996                2          0              0.4                     1   \n",
       "99997                3          2              0.5                    16   \n",
       "99998                1          3              0.3                    18   \n",
       "99999                5          3              0.7                     5   \n",
       "\n",
       "       FollowUpEmails  SocialMediaEngagement PaymentHistory  \\\n",
       "0                  10                    195     No Payment   \n",
       "1                   3                    103     No Payment   \n",
       "2                   8                     33     No Payment   \n",
       "3                   1                    189           Good   \n",
       "4                   2                     83     No Payment   \n",
       "...               ...                    ...            ...   \n",
       "99995               3                     51           Good   \n",
       "99996               4                     91           Good   \n",
       "99997               9                     61     No Payment   \n",
       "99998               1                    187           Good   \n",
       "99999               3                    122           Good   \n",
       "\n",
       "       Conversion (Target)  \n",
       "0                        0  \n",
       "1                        0  \n",
       "2                        0  \n",
       "3                        0  \n",
       "4                        0  \n",
       "...                    ...  \n",
       "99995                    0  \n",
       "99996                    0  \n",
       "99997                    0  \n",
       "99998                    0  \n",
       "99999                    0  \n",
       "\n",
       "[100000 rows x 19 columns]"
      ]
     },
     "execution_count": 56,
     "metadata": {},
     "output_type": "execute_result"
    }
   ],
   "source": [
    "dataSet1tr"
   ]
  },
  {
   "cell_type": "code",
   "execution_count": 57,
   "id": "ce877f05",
   "metadata": {
    "scrolled": true
   },
   "outputs": [
    {
     "name": "stdout",
     "output_type": "stream",
     "text": [
      "<class 'pandas.core.frame.DataFrame'>\n",
      "RangeIndex: 26145 entries, 0 to 26144\n",
      "Data columns (total 19 columns):\n",
      " #   Column                 Non-Null Count  Dtype  \n",
      "---  ------                 --------------  -----  \n",
      " 0   LeadID                 26145 non-null  int64  \n",
      " 1   Age                    26145 non-null  int64  \n",
      " 2   Gender                 26145 non-null  object \n",
      " 3   Location               26145 non-null  object \n",
      " 4   LeadSource             26145 non-null  object \n",
      " 5   TimeSpent (minutes)    26145 non-null  int64  \n",
      " 6   PagesViewed            26145 non-null  int64  \n",
      " 7   LeadStatus             26145 non-null  object \n",
      " 8   EmailSent              26145 non-null  int64  \n",
      " 9   DeviceType             26145 non-null  object \n",
      " 10  ReferralSource         26145 non-null  object \n",
      " 11  FormSubmissions        26145 non-null  int64  \n",
      " 12  Downloads              26145 non-null  int64  \n",
      " 13  CTR_ProductPage        26145 non-null  float64\n",
      " 14  ResponseTime (hours)   26145 non-null  int64  \n",
      " 15  FollowUpEmails         26145 non-null  int64  \n",
      " 16  SocialMediaEngagement  26145 non-null  int64  \n",
      " 17  PaymentHistory         26145 non-null  object \n",
      " 18  Conversion (Target)    26145 non-null  int64  \n",
      "dtypes: float64(1), int64(11), object(7)\n",
      "memory usage: 3.8+ MB\n"
     ]
    }
   ],
   "source": [
    "dataSet1ts.info()"
   ]
  },
  {
   "cell_type": "markdown",
   "id": "897a86c4",
   "metadata": {},
   "source": [
    "## Dataset 2 Online Education Customers "
   ]
  },
  {
   "cell_type": "code",
   "execution_count": 58,
   "id": "b267a166",
   "metadata": {},
   "outputs": [],
   "source": [
    "dataSet2 = pd.read_csv(\"Leads.csv\")"
   ]
  },
  {
   "cell_type": "code",
   "execution_count": 59,
   "id": "8190718d",
   "metadata": {},
   "outputs": [
    {
     "name": "stdout",
     "output_type": "stream",
     "text": [
      "<class 'pandas.core.frame.DataFrame'>\n",
      "RangeIndex: 9240 entries, 0 to 9239\n",
      "Data columns (total 37 columns):\n",
      " #   Column                                         Non-Null Count  Dtype  \n",
      "---  ------                                         --------------  -----  \n",
      " 0   Prospect ID                                    9240 non-null   object \n",
      " 1   Lead Number                                    9240 non-null   int64  \n",
      " 2   Lead Origin                                    9240 non-null   object \n",
      " 3   Lead Source                                    9204 non-null   object \n",
      " 4   Do Not Email                                   9240 non-null   object \n",
      " 5   Do Not Call                                    9240 non-null   object \n",
      " 6   Converted                                      9240 non-null   int64  \n",
      " 7   TotalVisits                                    9103 non-null   float64\n",
      " 8   Total Time Spent on Website                    9240 non-null   int64  \n",
      " 9   Page Views Per Visit                           9103 non-null   float64\n",
      " 10  Last Activity                                  9137 non-null   object \n",
      " 11  Country                                        6779 non-null   object \n",
      " 12  Specialization                                 7802 non-null   object \n",
      " 13  How did you hear about X Education             7033 non-null   object \n",
      " 14  What is your current occupation                6550 non-null   object \n",
      " 15  What matters most to you in choosing a course  6531 non-null   object \n",
      " 16  Search                                         9240 non-null   object \n",
      " 17  Magazine                                       9240 non-null   object \n",
      " 18  Newspaper Article                              9240 non-null   object \n",
      " 19  X Education Forums                             9240 non-null   object \n",
      " 20  Newspaper                                      9240 non-null   object \n",
      " 21  Digital Advertisement                          9240 non-null   object \n",
      " 22  Through Recommendations                        9240 non-null   object \n",
      " 23  Receive More Updates About Our Courses         9240 non-null   object \n",
      " 24  Tags                                           5887 non-null   object \n",
      " 25  Lead Quality                                   4473 non-null   object \n",
      " 26  Update me on Supply Chain Content              9240 non-null   object \n",
      " 27  Get updates on DM Content                      9240 non-null   object \n",
      " 28  Lead Profile                                   6531 non-null   object \n",
      " 29  City                                           7820 non-null   object \n",
      " 30  Asymmetrique Activity Index                    5022 non-null   object \n",
      " 31  Asymmetrique Profile Index                     5022 non-null   object \n",
      " 32  Asymmetrique Activity Score                    5022 non-null   float64\n",
      " 33  Asymmetrique Profile Score                     5022 non-null   float64\n",
      " 34  I agree to pay the amount through cheque       9240 non-null   object \n",
      " 35  A free copy of Mastering The Interview         9240 non-null   object \n",
      " 36  Last Notable Activity                          9240 non-null   object \n",
      "dtypes: float64(4), int64(3), object(30)\n",
      "memory usage: 2.6+ MB\n"
     ]
    }
   ],
   "source": [
    "dataSet2.info()"
   ]
  },
  {
   "cell_type": "markdown",
   "id": "9793b446",
   "metadata": {},
   "source": [
    "# Narrow Down Common Features and Combine Sets"
   ]
  },
  {
   "cell_type": "markdown",
   "id": "e8ae77e5",
   "metadata": {},
   "source": [
    "The common features are referral source (lead source), timeSpent(total time on website), pagesViewed (pages viewed per visit), lead status (lead quality), EmailSent (DNE), payment history (check payment), conversion. "
   ]
  },
  {
   "cell_type": "markdown",
   "id": "ae4ea871",
   "metadata": {},
   "source": [
    "## Remove Non-matching Columns "
   ]
  },
  {
   "cell_type": "code",
   "execution_count": 60,
   "id": "7107f09d",
   "metadata": {},
   "outputs": [],
   "source": [
    "dataSet2 = dataSet2.drop(columns=['Lead Origin','TotalVisits','Prospect ID','Lead Number', 'Do Not Call', 'Last Activity','Country','Specialization','How did you hear about X Education','What is your current occupation','What matters most to you in choosing a course','Search','Magazine','Newspaper Article', 'X Education Forums', 'Newspaper', 'Digital Advertisement', 'Through Recommendations', 'Receive More Updates About Our Courses','Tags','Update me on Supply Chain Content', 'Get updates on DM Content','Lead Profile', 'City','Asymmetrique Activity Index','Asymmetrique Profile Index','Asymmetrique Activity Score','Asymmetrique Profile Score','A free copy of Mastering The Interview', 'Last Notable Activity'])\n"
   ]
  },
  {
   "cell_type": "code",
   "execution_count": 61,
   "id": "a69b3b1d",
   "metadata": {},
   "outputs": [],
   "source": [
    "dataSet1tr = dataSet1tr.drop(columns=['LeadID','Age','Gender','Location','DeviceType','LeadSource','FormSubmissions','Downloads','CTR_ProductPage','ResponseTime (hours)','FollowUpEmails','SocialMediaEngagement'])\n",
    "dataSet1ts = dataSet1ts.drop(columns=['LeadID','Age','Gender','Location','DeviceType','LeadSource','FormSubmissions','Downloads','CTR_ProductPage','ResponseTime (hours)','FollowUpEmails','SocialMediaEngagement'])"
   ]
  },
  {
   "cell_type": "markdown",
   "id": "4bdeec76",
   "metadata": {},
   "source": [
    "## Renaming Columns "
   ]
  },
  {
   "cell_type": "code",
   "execution_count": 62,
   "id": "5d1c9771",
   "metadata": {},
   "outputs": [],
   "source": [
    "renamedSet2 = dataSet2.rename(columns={'Do Not Email':'EmailSent', 'Total Time Spent on Website' : 'TimeSpent','Page Views Per Visit':'PagesViewed', 'Lead Quality':'LeadStatus', 'I agree to pay the amount through cheque': 'PaymentHistory', 'Lead Source':'LeadSource'})"
   ]
  },
  {
   "cell_type": "code",
   "execution_count": 63,
   "id": "19db1cb8",
   "metadata": {},
   "outputs": [],
   "source": [
    "renamedSet1tr = dataSet1tr.rename(columns={'ReferralSource':'LeadSource', 'Conversion (Target)': 'Converted','TimeSpent (minutes)':'TimeSpent'})\n",
    "renamedSet1ts = dataSet1ts.rename(columns={'ReferralSource':'LeadSource', 'Conversion (Target)': 'Converted','TimeSpent (minutes)':'TimeSpent'})"
   ]
  },
  {
   "cell_type": "markdown",
   "id": "06a61f2b",
   "metadata": {},
   "source": [
    "## Examine the Categorical Data and Match Categories"
   ]
  },
  {
   "cell_type": "code",
   "execution_count": 64,
   "id": "ca14f492",
   "metadata": {},
   "outputs": [
    {
     "name": "stdout",
     "output_type": "stream",
     "text": [
      "<class 'pandas.core.frame.DataFrame'>\n",
      "RangeIndex: 100000 entries, 0 to 99999\n",
      "Data columns (total 7 columns):\n",
      " #   Column          Non-Null Count   Dtype \n",
      "---  ------          --------------   ----- \n",
      " 0   TimeSpent       100000 non-null  int64 \n",
      " 1   PagesViewed     100000 non-null  int64 \n",
      " 2   LeadStatus      100000 non-null  object\n",
      " 3   EmailSent       100000 non-null  int64 \n",
      " 4   LeadSource      100000 non-null  object\n",
      " 5   PaymentHistory  100000 non-null  object\n",
      " 6   Converted       100000 non-null  int64 \n",
      "dtypes: int64(4), object(3)\n",
      "memory usage: 5.3+ MB\n"
     ]
    }
   ],
   "source": [
    "renamedSet1tr.info()"
   ]
  },
  {
   "cell_type": "code",
   "execution_count": 65,
   "id": "ea3dafe9",
   "metadata": {},
   "outputs": [
    {
     "name": "stdout",
     "output_type": "stream",
     "text": [
      "<class 'pandas.core.frame.DataFrame'>\n",
      "RangeIndex: 26145 entries, 0 to 26144\n",
      "Data columns (total 7 columns):\n",
      " #   Column          Non-Null Count  Dtype \n",
      "---  ------          --------------  ----- \n",
      " 0   TimeSpent       26145 non-null  int64 \n",
      " 1   PagesViewed     26145 non-null  int64 \n",
      " 2   LeadStatus      26145 non-null  object\n",
      " 3   EmailSent       26145 non-null  int64 \n",
      " 4   LeadSource      26145 non-null  object\n",
      " 5   PaymentHistory  26145 non-null  object\n",
      " 6   Converted       26145 non-null  int64 \n",
      "dtypes: int64(4), object(3)\n",
      "memory usage: 1.4+ MB\n"
     ]
    }
   ],
   "source": [
    "renamedSet1ts.info()"
   ]
  },
  {
   "cell_type": "code",
   "execution_count": 66,
   "id": "e3008818",
   "metadata": {},
   "outputs": [
    {
     "name": "stdout",
     "output_type": "stream",
     "text": [
      "<class 'pandas.core.frame.DataFrame'>\n",
      "RangeIndex: 9240 entries, 0 to 9239\n",
      "Data columns (total 7 columns):\n",
      " #   Column          Non-Null Count  Dtype  \n",
      "---  ------          --------------  -----  \n",
      " 0   LeadSource      9204 non-null   object \n",
      " 1   EmailSent       9240 non-null   object \n",
      " 2   Converted       9240 non-null   int64  \n",
      " 3   TimeSpent       9240 non-null   int64  \n",
      " 4   PagesViewed     9103 non-null   float64\n",
      " 5   LeadStatus      4473 non-null   object \n",
      " 6   PaymentHistory  9240 non-null   object \n",
      "dtypes: float64(1), int64(2), object(4)\n",
      "memory usage: 505.4+ KB\n"
     ]
    }
   ],
   "source": [
    "renamedSet2.info()"
   ]
  },
  {
   "cell_type": "markdown",
   "id": "d9492922",
   "metadata": {},
   "source": [
    "### Lead Status"
   ]
  },
  {
   "cell_type": "code",
   "execution_count": 67,
   "id": "1c2089e4",
   "metadata": {},
   "outputs": [
    {
     "data": {
      "text/plain": [
       "0        Warm\n",
       "1         Hot\n",
       "2        Warm\n",
       "3        Warm\n",
       "4        Cold\n",
       "         ... \n",
       "99995    Cold\n",
       "99996     Hot\n",
       "99997    Warm\n",
       "99998     Hot\n",
       "99999     Hot\n",
       "Name: LeadStatus, Length: 100000, dtype: object"
      ]
     },
     "execution_count": 67,
     "metadata": {},
     "output_type": "execute_result"
    }
   ],
   "source": [
    "renamedSet1tr['LeadStatus']"
   ]
  },
  {
   "cell_type": "code",
   "execution_count": 68,
   "id": "147c68fa",
   "metadata": {},
   "outputs": [
    {
     "data": {
      "text/plain": [
       "0        Low in Relevance\n",
       "1                     NaN\n",
       "2                Might be\n",
       "3                Not Sure\n",
       "4                Might be\n",
       "              ...        \n",
       "9235    High in Relevance\n",
       "9236             Might be\n",
       "9237             Not Sure\n",
       "9238                  NaN\n",
       "9239             Might be\n",
       "Name: LeadStatus, Length: 9240, dtype: object"
      ]
     },
     "execution_count": 68,
     "metadata": {},
     "output_type": "execute_result"
    }
   ],
   "source": [
    "renamedSet2['LeadStatus']"
   ]
  },
  {
   "cell_type": "markdown",
   "id": "89e15b69",
   "metadata": {},
   "source": [
    "Changing set 2 values to follow the hot, warm, cold format"
   ]
  },
  {
   "cell_type": "code",
   "execution_count": 69,
   "id": "1894e4ef",
   "metadata": {},
   "outputs": [],
   "source": [
    "for i in renamedSet2['LeadStatus']:\n",
    "    if i == 'Low in Relevance':\n",
    "        renamedSet2.loc[renamedSet2['LeadStatus'] == i, 'LeadStatus'] = 'Cold'\n",
    "    elif i == 'Not Sure':\n",
    "        renamedSet2.loc[renamedSet2['LeadStatus'] == i, 'LeadStatus'] = 'Warm'\n",
    "    elif i == 'Worst':\n",
    "        renamedSet2.loc[renamedSet2['LeadStatus'] == i, 'LeadStatus'] = 'Cold'\n",
    "    elif i == 'Might be':\n",
    "        renamedSet2.loc[renamedSet2['LeadStatus'] == i, 'LeadStatus'] = 'Warm'\n",
    "    elif i == 'High in Relevance':\n",
    "        renamedSet2.loc[renamedSet2['LeadStatus'] == i, 'LeadStatus'] = 'Hot'\n",
    "\n",
    "                            "
   ]
  },
  {
   "cell_type": "markdown",
   "id": "3b4d2722",
   "metadata": {},
   "source": [
    "I replaced the null values with the the mode for this set"
   ]
  },
  {
   "cell_type": "code",
   "execution_count": 70,
   "id": "c0be808d",
   "metadata": {},
   "outputs": [],
   "source": [
    "renamedSet2['LeadStatus'].fillna(renamedSet2['LeadStatus'].mode()[0], inplace=True)"
   ]
  },
  {
   "cell_type": "markdown",
   "id": "6098ee55",
   "metadata": {},
   "source": [
    "### PaymentHistory"
   ]
  },
  {
   "cell_type": "code",
   "execution_count": 71,
   "id": "667122cd",
   "metadata": {},
   "outputs": [
    {
     "data": {
      "text/plain": [
       "count     100000\n",
       "unique         2\n",
       "top         Good\n",
       "freq       50111\n",
       "Name: PaymentHistory, dtype: object"
      ]
     },
     "execution_count": 71,
     "metadata": {},
     "output_type": "execute_result"
    }
   ],
   "source": [
    "renamedSet1tr['PaymentHistory'].describe()"
   ]
  },
  {
   "cell_type": "code",
   "execution_count": 72,
   "id": "c30d5023",
   "metadata": {},
   "outputs": [
    {
     "data": {
      "text/plain": [
       "count     9240\n",
       "unique       1\n",
       "top         No\n",
       "freq      9240\n",
       "Name: PaymentHistory, dtype: object"
      ]
     },
     "execution_count": 72,
     "metadata": {},
     "output_type": "execute_result"
    }
   ],
   "source": [
    "renamedSet2['PaymentHistory'].describe()"
   ]
  },
  {
   "cell_type": "code",
   "execution_count": 73,
   "id": "810fbe01",
   "metadata": {},
   "outputs": [],
   "source": [
    "for i in renamedSet2['PaymentHistory']:\n",
    "    if i == 'No':\n",
    "        renamedSet2.loc[renamedSet2['PaymentHistory'] == i, 'PaymentHistory'] = 'No Payment'"
   ]
  },
  {
   "cell_type": "markdown",
   "id": "abc5909f",
   "metadata": {},
   "source": [
    "### Lead Source"
   ]
  },
  {
   "cell_type": "code",
   "execution_count": 74,
   "id": "d0d75643",
   "metadata": {},
   "outputs": [
    {
     "data": {
      "text/plain": [
       "LeadSource\n",
       "ReferralSite    20080\n",
       "Facebook        20076\n",
       "Twitter         20025\n",
       "Direct          19949\n",
       "Google          19870\n",
       "Name: count, dtype: int64"
      ]
     },
     "execution_count": 74,
     "metadata": {},
     "output_type": "execute_result"
    }
   ],
   "source": [
    "renamedSet1tr['LeadSource'].value_counts()"
   ]
  },
  {
   "cell_type": "code",
   "execution_count": 75,
   "id": "ffa88248",
   "metadata": {},
   "outputs": [
    {
     "data": {
      "text/plain": [
       "LeadSource\n",
       "Google               2868\n",
       "Direct Traffic       2543\n",
       "Olark Chat           1755\n",
       "Organic Search       1154\n",
       "Reference             534\n",
       "Welingak Website      142\n",
       "Referral Sites        125\n",
       "Facebook               55\n",
       "bing                    6\n",
       "google                  5\n",
       "Click2call              4\n",
       "Press_Release           2\n",
       "Social Media            2\n",
       "Live Chat               2\n",
       "youtubechannel          1\n",
       "testone                 1\n",
       "Pay per Click Ads       1\n",
       "welearnblog_Home        1\n",
       "WeLearn                 1\n",
       "blog                    1\n",
       "NC_EDM                  1\n",
       "Name: count, dtype: int64"
      ]
     },
     "execution_count": 75,
     "metadata": {},
     "output_type": "execute_result"
    }
   ],
   "source": [
    "renamedSet2['LeadSource'].value_counts()"
   ]
  },
  {
   "cell_type": "code",
   "execution_count": 76,
   "id": "ade9c761",
   "metadata": {},
   "outputs": [],
   "source": [
    "for i in renamedSet2['LeadSource']:\n",
    "    if i == 'google':\n",
    "        renamedSet2.loc[renamedSet2['LeadSource'] == i, 'LeadSource'] = 'Google'\n",
    "    elif i == 'bing':\n",
    "        renamedSet2.loc[renamedSet2['LeadSource'] == i, 'LeadSource'] = 'Google'\n",
    "    elif i == 'Direct Traffic':\n",
    "        renamedSet2.loc[renamedSet2['LeadSource'] == i, 'LeadSource'] = 'Direct'\n",
    "    elif i == 'Referral Sites':\n",
    "        renamedSet2.loc[renamedSet2['LeadSource'] == i, 'LeadSource'] = 'ReferralSite'\n",
    "    elif i == 'Reference':\n",
    "        renamedSet2.loc[renamedSet2['LeadSource'] == i, 'LeadSource'] = 'ReferralSite'\n",
    "    elif i == 'Click2call':\n",
    "        renamedSet2.loc[renamedSet2['LeadSource'] == i, 'LeadSource'] = 'Other'\n",
    "    elif i == 'Press_Release':\n",
    "        renamedSet2.loc[renamedSet2['LeadSource'] == i, 'LeadSource'] = 'Other'\n",
    "    elif i == 'Live Chat':\n",
    "        renamedSet2.loc[renamedSet2['LeadSource'] == i, 'LeadSource'] = 'Other'\n",
    "    elif i == 'youtubechannel':\n",
    "        renamedSet2.loc[renamedSet2['LeadSource'] == i, 'LeadSource'] = 'Other'\n",
    "    elif i == 'testone':\n",
    "        renamedSet2.loc[renamedSet2['LeadSource'] == i, 'LeadSource'] = 'Other'\n",
    "    elif i == 'Pay per Click Ads':\n",
    "        renamedSet2.loc[renamedSet2['LeadSource'] == i, 'LeadSource'] = 'Other'\n",
    "    elif i == 'welearnblog_Home':\n",
    "        renamedSet2.loc[renamedSet2['LeadSource'] == i, 'LeadSource'] = 'Other'\n",
    "    elif i == 'WeLearn':\n",
    "        renamedSet2.loc[renamedSet2['LeadSource'] == i, 'LeadSource'] = 'Other'\n",
    "    elif i == 'blog':\n",
    "        renamedSet2.loc[renamedSet2['LeadSource'] == i, 'LeadSource'] = 'Other'\n",
    "    elif i == 'NC_EDM':\n",
    "        renamedSet2.loc[renamedSet2['LeadSource'] == i, 'LeadSource'] = 'Other'\n",
    "    elif i == 'Social Media':\n",
    "        renamedSet2.loc[renamedSet2['LeadSource'] == i, 'LeadSource'] = 'Other'\n",
    "    elif i == 'Welingak Website':\n",
    "        renamedSet2.loc[renamedSet2['LeadSource'] == i, 'LeadSource'] = 'Other'\n",
    "\n",
    "\n",
    "    "
   ]
  },
  {
   "cell_type": "code",
   "execution_count": 77,
   "id": "f576afa7",
   "metadata": {},
   "outputs": [
    {
     "data": {
      "text/plain": [
       "LeadSource\n",
       "Google            2879\n",
       "Direct            2543\n",
       "Olark Chat        1755\n",
       "Organic Search    1154\n",
       "ReferralSite       659\n",
       "Other              159\n",
       "Facebook            55\n",
       "Name: count, dtype: int64"
      ]
     },
     "execution_count": 77,
     "metadata": {},
     "output_type": "execute_result"
    }
   ],
   "source": [
    "renamedSet2['LeadSource'].value_counts()"
   ]
  },
  {
   "cell_type": "code",
   "execution_count": 78,
   "id": "eeed7d5d",
   "metadata": {},
   "outputs": [
    {
     "name": "stdout",
     "output_type": "stream",
     "text": [
      "<class 'pandas.core.series.Series'>\n",
      "RangeIndex: 9240 entries, 0 to 9239\n",
      "Series name: LeadSource\n",
      "Non-Null Count  Dtype \n",
      "--------------  ----- \n",
      "9204 non-null   object\n",
      "dtypes: object(1)\n",
      "memory usage: 72.3+ KB\n"
     ]
    }
   ],
   "source": [
    "renamedSet2['LeadSource'].info()"
   ]
  },
  {
   "cell_type": "code",
   "execution_count": 79,
   "id": "4c74835e",
   "metadata": {},
   "outputs": [],
   "source": [
    "renamedSet2['LeadSource'].fillna(renamedSet2['LeadSource'].mode()[0], inplace=True)"
   ]
  },
  {
   "cell_type": "markdown",
   "id": "ab3983d0",
   "metadata": {},
   "source": [
    "## Filling missing values"
   ]
  },
  {
   "cell_type": "code",
   "execution_count": 80,
   "id": "8f73ba86",
   "metadata": {},
   "outputs": [
    {
     "name": "stdout",
     "output_type": "stream",
     "text": [
      "<class 'pandas.core.series.Series'>\n",
      "RangeIndex: 9240 entries, 0 to 9239\n",
      "Series name: PagesViewed\n",
      "Non-Null Count  Dtype  \n",
      "--------------  -----  \n",
      "9103 non-null   float64\n",
      "dtypes: float64(1)\n",
      "memory usage: 72.3 KB\n"
     ]
    }
   ],
   "source": [
    "renamedSet2['PagesViewed'].info()"
   ]
  },
  {
   "cell_type": "code",
   "execution_count": 81,
   "id": "5965a906",
   "metadata": {},
   "outputs": [],
   "source": [
    "renamedSet2['PagesViewed'].fillna(0,inplace=True)"
   ]
  },
  {
   "cell_type": "markdown",
   "id": "930d5c6a",
   "metadata": {},
   "source": [
    "### Email Sent"
   ]
  },
  {
   "cell_type": "code",
   "execution_count": 83,
   "id": "3b89e714",
   "metadata": {},
   "outputs": [],
   "source": [
    "for i in renamedSet2['EmailSent']:\n",
    "    if i == 'Yes':\n",
    "        renamedSet2.loc[renamedSet2['EmailSent'] == i, 'EmailSent'] = '1'\n",
    "    elif i == 'No':\n",
    "        renamedSet2.loc[renamedSet2['EmailSent'] == i, 'EmailSent'] = '0'"
   ]
  },
  {
   "cell_type": "code",
   "execution_count": 37,
   "id": "24405f05",
   "metadata": {},
   "outputs": [],
   "source": [
    "for i in renamedSet1tr['EmailSent']:\n",
    "    if i > 0:\n",
    "        renamedSet1tr.loc[renamedSet1tr['EmailSent'] == i, 'EmailSent'] = '1'\n",
    "    elif i <= 0:\n",
    "        renamedSet1tr.loc[renamedSet1tr['EmailSent'] == i, 'EmailSent'] = '0'"
   ]
  },
  {
   "cell_type": "code",
   "execution_count": 38,
   "id": "4f4f96d9",
   "metadata": {},
   "outputs": [],
   "source": [
    "for i in renamedSet1ts['EmailSent']:\n",
    "    if i > 0:\n",
    "        renamedSet1ts.loc[renamedSet1ts['EmailSent'] == i, 'EmailSent'] = '1'\n",
    "    elif i <= 0:\n",
    "        renamedSet1ts.loc[renamedSet1ts['EmailSent'] == i, 'EmailSent'] = '0'"
   ]
  },
  {
   "cell_type": "markdown",
   "id": "24170821",
   "metadata": {},
   "source": [
    "## Splitting Set 2 into training and test sets"
   ]
  },
  {
   "cell_type": "code",
   "execution_count": 84,
   "id": "c459dbc4",
   "metadata": {},
   "outputs": [],
   "source": [
    "train, test = train_test_split(renamedSet2, test_size=0.2, random_state=0)"
   ]
  },
  {
   "cell_type": "markdown",
   "id": "aebae68d",
   "metadata": {},
   "source": [
    "## Combinding the Sets of Training and Test Data"
   ]
  },
  {
   "cell_type": "code",
   "execution_count": 85,
   "id": "0bf189f1",
   "metadata": {},
   "outputs": [],
   "source": [
    "train = pd.concat([renamedSet1tr, train], axis=0, ignore_index=True)"
   ]
  },
  {
   "cell_type": "code",
   "execution_count": 86,
   "id": "a6d664be",
   "metadata": {},
   "outputs": [],
   "source": [
    "test = pd.concat([renamedSet1ts, test], axis=0, ignore_index=True)"
   ]
  },
  {
   "cell_type": "code",
   "execution_count": 42,
   "id": "638dd72e",
   "metadata": {},
   "outputs": [],
   "source": [
    "train.to_csv('finalTrain.csv')\n",
    "test.to_csv('finalTest.csv')"
   ]
  },
  {
   "cell_type": "markdown",
   "id": "83fba8f9",
   "metadata": {},
   "source": [
    "## Examining the Data"
   ]
  },
  {
   "cell_type": "code",
   "execution_count": 87,
   "id": "ea5d9631",
   "metadata": {
    "scrolled": false
   },
   "outputs": [
    {
     "data": {
      "text/html": [
       "<div>\n",
       "<style scoped>\n",
       "    .dataframe tbody tr th:only-of-type {\n",
       "        vertical-align: middle;\n",
       "    }\n",
       "\n",
       "    .dataframe tbody tr th {\n",
       "        vertical-align: top;\n",
       "    }\n",
       "\n",
       "    .dataframe thead th {\n",
       "        text-align: right;\n",
       "    }\n",
       "</style>\n",
       "<table border=\"1\" class=\"dataframe\">\n",
       "  <thead>\n",
       "    <tr style=\"text-align: right;\">\n",
       "      <th></th>\n",
       "      <th>TimeSpent</th>\n",
       "      <th>PagesViewed</th>\n",
       "      <th>LeadStatus</th>\n",
       "      <th>EmailSent</th>\n",
       "      <th>LeadSource</th>\n",
       "      <th>PaymentHistory</th>\n",
       "      <th>Converted</th>\n",
       "    </tr>\n",
       "  </thead>\n",
       "  <tbody>\n",
       "    <tr>\n",
       "      <th>0</th>\n",
       "      <td>30</td>\n",
       "      <td>13.0</td>\n",
       "      <td>Warm</td>\n",
       "      <td>1</td>\n",
       "      <td>Google</td>\n",
       "      <td>No Payment</td>\n",
       "      <td>0</td>\n",
       "    </tr>\n",
       "    <tr>\n",
       "      <th>1</th>\n",
       "      <td>28</td>\n",
       "      <td>4.0</td>\n",
       "      <td>Hot</td>\n",
       "      <td>7</td>\n",
       "      <td>Direct</td>\n",
       "      <td>No Payment</td>\n",
       "      <td>0</td>\n",
       "    </tr>\n",
       "    <tr>\n",
       "      <th>2</th>\n",
       "      <td>45</td>\n",
       "      <td>10.0</td>\n",
       "      <td>Warm</td>\n",
       "      <td>9</td>\n",
       "      <td>Direct</td>\n",
       "      <td>No Payment</td>\n",
       "      <td>0</td>\n",
       "    </tr>\n",
       "    <tr>\n",
       "      <th>3</th>\n",
       "      <td>45</td>\n",
       "      <td>15.0</td>\n",
       "      <td>Warm</td>\n",
       "      <td>5</td>\n",
       "      <td>ReferralSite</td>\n",
       "      <td>Good</td>\n",
       "      <td>0</td>\n",
       "    </tr>\n",
       "    <tr>\n",
       "      <th>4</th>\n",
       "      <td>31</td>\n",
       "      <td>11.0</td>\n",
       "      <td>Cold</td>\n",
       "      <td>2</td>\n",
       "      <td>Google</td>\n",
       "      <td>No Payment</td>\n",
       "      <td>0</td>\n",
       "    </tr>\n",
       "    <tr>\n",
       "      <th>...</th>\n",
       "      <td>...</td>\n",
       "      <td>...</td>\n",
       "      <td>...</td>\n",
       "      <td>...</td>\n",
       "      <td>...</td>\n",
       "      <td>...</td>\n",
       "      <td>...</td>\n",
       "    </tr>\n",
       "    <tr>\n",
       "      <th>107387</th>\n",
       "      <td>1055</td>\n",
       "      <td>4.0</td>\n",
       "      <td>Warm</td>\n",
       "      <td>0</td>\n",
       "      <td>Google</td>\n",
       "      <td>No Payment</td>\n",
       "      <td>1</td>\n",
       "    </tr>\n",
       "    <tr>\n",
       "      <th>107388</th>\n",
       "      <td>74</td>\n",
       "      <td>2.0</td>\n",
       "      <td>Warm</td>\n",
       "      <td>1</td>\n",
       "      <td>Direct</td>\n",
       "      <td>No Payment</td>\n",
       "      <td>0</td>\n",
       "    </tr>\n",
       "    <tr>\n",
       "      <th>107389</th>\n",
       "      <td>0</td>\n",
       "      <td>0.0</td>\n",
       "      <td>Warm</td>\n",
       "      <td>0</td>\n",
       "      <td>Olark Chat</td>\n",
       "      <td>No Payment</td>\n",
       "      <td>0</td>\n",
       "    </tr>\n",
       "    <tr>\n",
       "      <th>107390</th>\n",
       "      <td>0</td>\n",
       "      <td>0.0</td>\n",
       "      <td>Warm</td>\n",
       "      <td>0</td>\n",
       "      <td>Olark Chat</td>\n",
       "      <td>No Payment</td>\n",
       "      <td>0</td>\n",
       "    </tr>\n",
       "    <tr>\n",
       "      <th>107391</th>\n",
       "      <td>36</td>\n",
       "      <td>1.0</td>\n",
       "      <td>Warm</td>\n",
       "      <td>0</td>\n",
       "      <td>Google</td>\n",
       "      <td>No Payment</td>\n",
       "      <td>0</td>\n",
       "    </tr>\n",
       "  </tbody>\n",
       "</table>\n",
       "<p>107392 rows × 7 columns</p>\n",
       "</div>"
      ],
      "text/plain": [
       "        TimeSpent  PagesViewed LeadStatus EmailSent    LeadSource  \\\n",
       "0              30         13.0       Warm         1        Google   \n",
       "1              28          4.0        Hot         7        Direct   \n",
       "2              45         10.0       Warm         9        Direct   \n",
       "3              45         15.0       Warm         5  ReferralSite   \n",
       "4              31         11.0       Cold         2        Google   \n",
       "...           ...          ...        ...       ...           ...   \n",
       "107387       1055          4.0       Warm         0        Google   \n",
       "107388         74          2.0       Warm         1        Direct   \n",
       "107389          0          0.0       Warm         0    Olark Chat   \n",
       "107390          0          0.0       Warm         0    Olark Chat   \n",
       "107391         36          1.0       Warm         0        Google   \n",
       "\n",
       "       PaymentHistory  Converted  \n",
       "0          No Payment          0  \n",
       "1          No Payment          0  \n",
       "2          No Payment          0  \n",
       "3                Good          0  \n",
       "4          No Payment          0  \n",
       "...               ...        ...  \n",
       "107387     No Payment          1  \n",
       "107388     No Payment          0  \n",
       "107389     No Payment          0  \n",
       "107390     No Payment          0  \n",
       "107391     No Payment          0  \n",
       "\n",
       "[107392 rows x 7 columns]"
      ]
     },
     "execution_count": 87,
     "metadata": {},
     "output_type": "execute_result"
    }
   ],
   "source": [
    "train"
   ]
  },
  {
   "cell_type": "code",
   "execution_count": 88,
   "id": "e4091324",
   "metadata": {},
   "outputs": [
    {
     "data": {
      "text/html": [
       "<div>\n",
       "<style scoped>\n",
       "    .dataframe tbody tr th:only-of-type {\n",
       "        vertical-align: middle;\n",
       "    }\n",
       "\n",
       "    .dataframe tbody tr th {\n",
       "        vertical-align: top;\n",
       "    }\n",
       "\n",
       "    .dataframe thead th {\n",
       "        text-align: right;\n",
       "    }\n",
       "</style>\n",
       "<table border=\"1\" class=\"dataframe\">\n",
       "  <thead>\n",
       "    <tr style=\"text-align: right;\">\n",
       "      <th></th>\n",
       "      <th>TimeSpent</th>\n",
       "      <th>PagesViewed</th>\n",
       "      <th>LeadStatus</th>\n",
       "      <th>EmailSent</th>\n",
       "      <th>LeadSource</th>\n",
       "      <th>PaymentHistory</th>\n",
       "      <th>Converted</th>\n",
       "    </tr>\n",
       "  </thead>\n",
       "  <tbody>\n",
       "    <tr>\n",
       "      <th>0</th>\n",
       "      <td>46</td>\n",
       "      <td>6.00</td>\n",
       "      <td>Hot</td>\n",
       "      <td>10</td>\n",
       "      <td>Facebook</td>\n",
       "      <td>Good</td>\n",
       "      <td>0</td>\n",
       "    </tr>\n",
       "    <tr>\n",
       "      <th>1</th>\n",
       "      <td>42</td>\n",
       "      <td>8.00</td>\n",
       "      <td>Warm</td>\n",
       "      <td>6</td>\n",
       "      <td>Direct</td>\n",
       "      <td>No Payment</td>\n",
       "      <td>0</td>\n",
       "    </tr>\n",
       "    <tr>\n",
       "      <th>2</th>\n",
       "      <td>56</td>\n",
       "      <td>11.00</td>\n",
       "      <td>Cold</td>\n",
       "      <td>1</td>\n",
       "      <td>Direct</td>\n",
       "      <td>Good</td>\n",
       "      <td>0</td>\n",
       "    </tr>\n",
       "    <tr>\n",
       "      <th>3</th>\n",
       "      <td>24</td>\n",
       "      <td>15.00</td>\n",
       "      <td>Cold</td>\n",
       "      <td>6</td>\n",
       "      <td>Direct</td>\n",
       "      <td>Good</td>\n",
       "      <td>0</td>\n",
       "    </tr>\n",
       "    <tr>\n",
       "      <th>4</th>\n",
       "      <td>39</td>\n",
       "      <td>14.00</td>\n",
       "      <td>Hot</td>\n",
       "      <td>10</td>\n",
       "      <td>Direct</td>\n",
       "      <td>Good</td>\n",
       "      <td>0</td>\n",
       "    </tr>\n",
       "    <tr>\n",
       "      <th>...</th>\n",
       "      <td>...</td>\n",
       "      <td>...</td>\n",
       "      <td>...</td>\n",
       "      <td>...</td>\n",
       "      <td>...</td>\n",
       "      <td>...</td>\n",
       "      <td>...</td>\n",
       "    </tr>\n",
       "    <tr>\n",
       "      <th>27988</th>\n",
       "      <td>1594</td>\n",
       "      <td>2.67</td>\n",
       "      <td>Warm</td>\n",
       "      <td>0</td>\n",
       "      <td>Direct</td>\n",
       "      <td>No Payment</td>\n",
       "      <td>1</td>\n",
       "    </tr>\n",
       "    <tr>\n",
       "      <th>27989</th>\n",
       "      <td>788</td>\n",
       "      <td>5.00</td>\n",
       "      <td>Hot</td>\n",
       "      <td>0</td>\n",
       "      <td>Direct</td>\n",
       "      <td>No Payment</td>\n",
       "      <td>1</td>\n",
       "    </tr>\n",
       "    <tr>\n",
       "      <th>27990</th>\n",
       "      <td>967</td>\n",
       "      <td>1.00</td>\n",
       "      <td>Warm</td>\n",
       "      <td>0</td>\n",
       "      <td>Other</td>\n",
       "      <td>No Payment</td>\n",
       "      <td>1</td>\n",
       "    </tr>\n",
       "    <tr>\n",
       "      <th>27991</th>\n",
       "      <td>347</td>\n",
       "      <td>4.00</td>\n",
       "      <td>Warm</td>\n",
       "      <td>0</td>\n",
       "      <td>Google</td>\n",
       "      <td>No Payment</td>\n",
       "      <td>0</td>\n",
       "    </tr>\n",
       "    <tr>\n",
       "      <th>27992</th>\n",
       "      <td>987</td>\n",
       "      <td>2.50</td>\n",
       "      <td>Warm</td>\n",
       "      <td>0</td>\n",
       "      <td>Google</td>\n",
       "      <td>No Payment</td>\n",
       "      <td>1</td>\n",
       "    </tr>\n",
       "  </tbody>\n",
       "</table>\n",
       "<p>27993 rows × 7 columns</p>\n",
       "</div>"
      ],
      "text/plain": [
       "       TimeSpent  PagesViewed LeadStatus EmailSent LeadSource PaymentHistory  \\\n",
       "0             46         6.00        Hot        10   Facebook           Good   \n",
       "1             42         8.00       Warm         6     Direct     No Payment   \n",
       "2             56        11.00       Cold         1     Direct           Good   \n",
       "3             24        15.00       Cold         6     Direct           Good   \n",
       "4             39        14.00        Hot        10     Direct           Good   \n",
       "...          ...          ...        ...       ...        ...            ...   \n",
       "27988       1594         2.67       Warm         0     Direct     No Payment   \n",
       "27989        788         5.00        Hot         0     Direct     No Payment   \n",
       "27990        967         1.00       Warm         0      Other     No Payment   \n",
       "27991        347         4.00       Warm         0     Google     No Payment   \n",
       "27992        987         2.50       Warm         0     Google     No Payment   \n",
       "\n",
       "       Converted  \n",
       "0              0  \n",
       "1              0  \n",
       "2              0  \n",
       "3              0  \n",
       "4              0  \n",
       "...          ...  \n",
       "27988          1  \n",
       "27989          1  \n",
       "27990          1  \n",
       "27991          0  \n",
       "27992          1  \n",
       "\n",
       "[27993 rows x 7 columns]"
      ]
     },
     "execution_count": 88,
     "metadata": {},
     "output_type": "execute_result"
    }
   ],
   "source": [
    "test"
   ]
  },
  {
   "cell_type": "code",
   "execution_count": 89,
   "id": "f9af3474",
   "metadata": {
    "scrolled": true
   },
   "outputs": [
    {
     "data": {
      "text/plain": [
       "<Axes: title={'center': 'Lead Source'}, xlabel='LeadSource'>"
      ]
     },
     "execution_count": 89,
     "metadata": {},
     "output_type": "execute_result"
    },
    {
     "data": {
      "image/png": "[encoded data removed]",
      "text/plain": [
       "<Figure size 640x480 with 1 Axes>"
      ]
     },
     "metadata": {},
     "output_type": "display_data"
    }
   ],
   "source": [
    "train['LeadSource'].value_counts().plot(kind='bar', title='Lead Source')"
   ]
  },
  {
   "cell_type": "code",
   "execution_count": 92,
   "id": "28a23d6f",
   "metadata": {},
   "outputs": [
    {
     "data": {
      "text/html": [
       "<div>\n",
       "<style scoped>\n",
       "    .dataframe tbody tr th:only-of-type {\n",
       "        vertical-align: middle;\n",
       "    }\n",
       "\n",
       "    .dataframe tbody tr th {\n",
       "        vertical-align: top;\n",
       "    }\n",
       "\n",
       "    .dataframe thead th {\n",
       "        text-align: right;\n",
       "    }\n",
       "</style>\n",
       "<table border=\"1\" class=\"dataframe\">\n",
       "  <thead>\n",
       "    <tr style=\"text-align: right;\">\n",
       "      <th></th>\n",
       "      <th></th>\n",
       "      <th>LeadStatus</th>\n",
       "    </tr>\n",
       "    <tr>\n",
       "      <th>Converted</th>\n",
       "      <th>LeadStatus</th>\n",
       "      <th></th>\n",
       "    </tr>\n",
       "  </thead>\n",
       "  <tbody>\n",
       "    <tr>\n",
       "      <th rowspan=\"3\" valign=\"top\">0</th>\n",
       "      <th>Cold</th>\n",
       "      <td>33662</td>\n",
       "    </tr>\n",
       "    <tr>\n",
       "      <th>Hot</th>\n",
       "      <td>32336</td>\n",
       "    </tr>\n",
       "    <tr>\n",
       "      <th>Warm</th>\n",
       "      <td>36909</td>\n",
       "    </tr>\n",
       "    <tr>\n",
       "      <th rowspan=\"3\" valign=\"top\">1</th>\n",
       "      <th>Cold</th>\n",
       "      <td>717</td>\n",
       "    </tr>\n",
       "    <tr>\n",
       "      <th>Hot</th>\n",
       "      <td>1456</td>\n",
       "    </tr>\n",
       "    <tr>\n",
       "      <th>Warm</th>\n",
       "      <td>2312</td>\n",
       "    </tr>\n",
       "  </tbody>\n",
       "</table>\n",
       "</div>"
      ],
      "text/plain": [
       "                      LeadStatus\n",
       "Converted LeadStatus            \n",
       "0         Cold             33662\n",
       "          Hot              32336\n",
       "          Warm             36909\n",
       "1         Cold               717\n",
       "          Hot               1456\n",
       "          Warm              2312"
      ]
     },
     "execution_count": 92,
     "metadata": {},
     "output_type": "execute_result"
    }
   ],
   "source": [
    "train.groupby(['Converted','LeadStatus']).agg({'LeadStatus': 'count'})"
   ]
  },
  {
   "cell_type": "code",
   "execution_count": 96,
   "id": "5b914b4f",
   "metadata": {},
   "outputs": [
    {
     "data": {
      "text/html": [
       "<div>\n",
       "<style scoped>\n",
       "    .dataframe tbody tr th:only-of-type {\n",
       "        vertical-align: middle;\n",
       "    }\n",
       "\n",
       "    .dataframe tbody tr th {\n",
       "        vertical-align: top;\n",
       "    }\n",
       "\n",
       "    .dataframe thead th {\n",
       "        text-align: right;\n",
       "    }\n",
       "</style>\n",
       "<table border=\"1\" class=\"dataframe\">\n",
       "  <thead>\n",
       "    <tr style=\"text-align: right;\">\n",
       "      <th></th>\n",
       "      <th>LeadStatus</th>\n",
       "    </tr>\n",
       "    <tr>\n",
       "      <th>LeadStatus</th>\n",
       "      <th></th>\n",
       "    </tr>\n",
       "  </thead>\n",
       "  <tbody>\n",
       "    <tr>\n",
       "      <th>Cold</th>\n",
       "      <td>34379</td>\n",
       "    </tr>\n",
       "    <tr>\n",
       "      <th>Hot</th>\n",
       "      <td>33792</td>\n",
       "    </tr>\n",
       "    <tr>\n",
       "      <th>Warm</th>\n",
       "      <td>39221</td>\n",
       "    </tr>\n",
       "  </tbody>\n",
       "</table>\n",
       "</div>"
      ],
      "text/plain": [
       "            LeadStatus\n",
       "LeadStatus            \n",
       "Cold             34379\n",
       "Hot              33792\n",
       "Warm             39221"
      ]
     },
     "execution_count": 96,
     "metadata": {},
     "output_type": "execute_result"
    }
   ],
   "source": [
    "train.groupby(['LeadStatus']).agg({'LeadStatus': 'count'})"
   ]
  },
  {
   "cell_type": "code",
   "execution_count": 94,
   "id": "802949d6",
   "metadata": {},
   "outputs": [
    {
     "data": {
      "text/html": [
       "<div>\n",
       "<style scoped>\n",
       "    .dataframe tbody tr th:only-of-type {\n",
       "        vertical-align: middle;\n",
       "    }\n",
       "\n",
       "    .dataframe tbody tr th {\n",
       "        vertical-align: top;\n",
       "    }\n",
       "\n",
       "    .dataframe thead th {\n",
       "        text-align: right;\n",
       "    }\n",
       "</style>\n",
       "<table border=\"1\" class=\"dataframe\">\n",
       "  <thead>\n",
       "    <tr style=\"text-align: right;\">\n",
       "      <th></th>\n",
       "      <th></th>\n",
       "      <th>LeadSource</th>\n",
       "    </tr>\n",
       "    <tr>\n",
       "      <th>Converted</th>\n",
       "      <th>LeadSource</th>\n",
       "      <th></th>\n",
       "    </tr>\n",
       "  </thead>\n",
       "  <tbody>\n",
       "    <tr>\n",
       "      <th rowspan=\"8\" valign=\"top\">0</th>\n",
       "      <th>Direct</th>\n",
       "      <td>21016</td>\n",
       "    </tr>\n",
       "    <tr>\n",
       "      <th>Facebook</th>\n",
       "      <td>19783</td>\n",
       "    </tr>\n",
       "    <tr>\n",
       "      <th>Google</th>\n",
       "      <td>20914</td>\n",
       "    </tr>\n",
       "    <tr>\n",
       "      <th>Olark Chat</th>\n",
       "      <td>1046</td>\n",
       "    </tr>\n",
       "    <tr>\n",
       "      <th>Organic Search</th>\n",
       "      <td>589</td>\n",
       "    </tr>\n",
       "    <tr>\n",
       "      <th>Other</th>\n",
       "      <td>10</td>\n",
       "    </tr>\n",
       "    <tr>\n",
       "      <th>ReferralSite</th>\n",
       "      <td>19855</td>\n",
       "    </tr>\n",
       "    <tr>\n",
       "      <th>Twitter</th>\n",
       "      <td>19694</td>\n",
       "    </tr>\n",
       "    <tr>\n",
       "      <th rowspan=\"8\" valign=\"top\">1</th>\n",
       "      <th>Direct</th>\n",
       "      <td>995</td>\n",
       "    </tr>\n",
       "    <tr>\n",
       "      <th>Facebook</th>\n",
       "      <td>338</td>\n",
       "    </tr>\n",
       "    <tr>\n",
       "      <th>Google</th>\n",
       "      <td>1259</td>\n",
       "    </tr>\n",
       "    <tr>\n",
       "      <th>Olark Chat</th>\n",
       "      <td>351</td>\n",
       "    </tr>\n",
       "    <tr>\n",
       "      <th>Organic Search</th>\n",
       "      <td>346</td>\n",
       "    </tr>\n",
       "    <tr>\n",
       "      <th>Other</th>\n",
       "      <td>116</td>\n",
       "    </tr>\n",
       "    <tr>\n",
       "      <th>ReferralSite</th>\n",
       "      <td>749</td>\n",
       "    </tr>\n",
       "    <tr>\n",
       "      <th>Twitter</th>\n",
       "      <td>331</td>\n",
       "    </tr>\n",
       "  </tbody>\n",
       "</table>\n",
       "</div>"
      ],
      "text/plain": [
       "                          LeadSource\n",
       "Converted LeadSource                \n",
       "0         Direct               21016\n",
       "          Facebook             19783\n",
       "          Google               20914\n",
       "          Olark Chat            1046\n",
       "          Organic Search         589\n",
       "          Other                   10\n",
       "          ReferralSite         19855\n",
       "          Twitter              19694\n",
       "1         Direct                 995\n",
       "          Facebook               338\n",
       "          Google                1259\n",
       "          Olark Chat             351\n",
       "          Organic Search         346\n",
       "          Other                  116\n",
       "          ReferralSite           749\n",
       "          Twitter                331"
      ]
     },
     "execution_count": 94,
     "metadata": {},
     "output_type": "execute_result"
    }
   ],
   "source": [
    "train.groupby(['Converted','LeadSource']).agg({'LeadSource': 'count'})"
   ]
  },
  {
   "cell_type": "markdown",
   "id": "3dfd32e0",
   "metadata": {},
   "source": [
    "### Converting Categorical Data into numeric Categories"
   ]
  },
  {
   "cell_type": "code",
   "execution_count": 47,
   "id": "ac9850be",
   "metadata": {
    "scrolled": false
   },
   "outputs": [],
   "source": [
    "train['LeadSource'] = train['LeadSource'].map({'Direct' : 1, 'Facebook' : 2 , 'Google': 3, 'Olark Chat': 4, 'Organic Search': 5, 'Other': 6, 'ReferralSite':7, 'Twitter': 8})\n",
    "train['LeadStatus'] = train['LeadStatus'].map({'Hot' : 1, 'Warm' : 2 , 'Cold': 3})\n",
    "train['PaymentHistory'] = train['PaymentHistory'].map({'No Payment' : 0, 'Good' : 1})\n",
    "\n",
    "test['LeadSource'] = test['LeadSource'].map({'Direct' : 1, 'Facebook' : 2 , 'Google': 3, 'Olark Chat': 4, 'Organic Search': 5, 'Other': 6, 'ReferralSite':7, 'Twitter': 8})\n",
    "test['LeadStatus'] = test['LeadStatus'].map({'Hot' : 1, 'Warm' : 2 , 'Cold': 3})\n",
    "test['PaymentHistory'] = test['PaymentHistory'].map({'No Payment' : 0, 'Good' : 1})"
   ]
  },
  {
   "cell_type": "code",
   "execution_count": 48,
   "id": "d0a748e1",
   "metadata": {},
   "outputs": [],
   "source": [
    "train.to_csv('NumericTrain.csv')\n",
    "test.to_csv('NumericTest.csv')"
   ]
  },
  {
   "cell_type": "code",
   "execution_count": 49,
   "id": "437cd6aa",
   "metadata": {},
   "outputs": [
    {
     "data": {
      "text/html": [
       "<div>\n",
       "<style scoped>\n",
       "    .dataframe tbody tr th:only-of-type {\n",
       "        vertical-align: middle;\n",
       "    }\n",
       "\n",
       "    .dataframe tbody tr th {\n",
       "        vertical-align: top;\n",
       "    }\n",
       "\n",
       "    .dataframe thead th {\n",
       "        text-align: right;\n",
       "    }\n",
       "</style>\n",
       "<table border=\"1\" class=\"dataframe\">\n",
       "  <thead>\n",
       "    <tr style=\"text-align: right;\">\n",
       "      <th></th>\n",
       "      <th>Converted</th>\n",
       "    </tr>\n",
       "    <tr>\n",
       "      <th>LeadStatus</th>\n",
       "      <th></th>\n",
       "    </tr>\n",
       "  </thead>\n",
       "  <tbody>\n",
       "    <tr>\n",
       "      <th>1</th>\n",
       "      <td>33792</td>\n",
       "    </tr>\n",
       "    <tr>\n",
       "      <th>2</th>\n",
       "      <td>39221</td>\n",
       "    </tr>\n",
       "    <tr>\n",
       "      <th>3</th>\n",
       "      <td>34379</td>\n",
       "    </tr>\n",
       "  </tbody>\n",
       "</table>\n",
       "</div>"
      ],
      "text/plain": [
       "            Converted\n",
       "LeadStatus           \n",
       "1               33792\n",
       "2               39221\n",
       "3               34379"
      ]
     },
     "execution_count": 49,
     "metadata": {},
     "output_type": "execute_result"
    }
   ],
   "source": [
    "train.groupby(['LeadStatus']).agg({'Converted': 'count'})"
   ]
  },
  {
   "cell_type": "code",
   "execution_count": 50,
   "id": "a6d9dc1d",
   "metadata": {},
   "outputs": [
    {
     "data": {
      "text/html": [
       "<div>\n",
       "<style scoped>\n",
       "    .dataframe tbody tr th:only-of-type {\n",
       "        vertical-align: middle;\n",
       "    }\n",
       "\n",
       "    .dataframe tbody tr th {\n",
       "        vertical-align: top;\n",
       "    }\n",
       "\n",
       "    .dataframe thead th {\n",
       "        text-align: right;\n",
       "    }\n",
       "</style>\n",
       "<table border=\"1\" class=\"dataframe\">\n",
       "  <thead>\n",
       "    <tr style=\"text-align: right;\">\n",
       "      <th></th>\n",
       "      <th>LeadStatus</th>\n",
       "    </tr>\n",
       "    <tr>\n",
       "      <th>Converted</th>\n",
       "      <th></th>\n",
       "    </tr>\n",
       "  </thead>\n",
       "  <tbody>\n",
       "    <tr>\n",
       "      <th>0</th>\n",
       "      <td>102907</td>\n",
       "    </tr>\n",
       "    <tr>\n",
       "      <th>1</th>\n",
       "      <td>4485</td>\n",
       "    </tr>\n",
       "  </tbody>\n",
       "</table>\n",
       "</div>"
      ],
      "text/plain": [
       "           LeadStatus\n",
       "Converted            \n",
       "0              102907\n",
       "1                4485"
      ]
     },
     "execution_count": 50,
     "metadata": {},
     "output_type": "execute_result"
    }
   ],
   "source": [
    "train.groupby(['Converted']).agg({'LeadStatus': 'count'})"
   ]
  },
  {
   "cell_type": "code",
   "execution_count": null,
   "id": "55e9027b",
   "metadata": {},
   "outputs": [],
   "source": []
  }
 ],
 "metadata": {
  "kernelspec": {
   "display_name": "Python 3 (ipykernel)",
   "language": "python",
   "name": "python3"
  },
  "language_info": {
   "codemirror_mode": {
    "name": "ipython",
    "version": 3
   },
   "file_extension": ".py",
   "mimetype": "text/x-python",
   "name": "python",
   "nbconvert_exporter": "python",
   "pygments_lexer": "ipython3",
   "version": "3.11.5"
  }
 },
 "nbformat": 4,
 "nbformat_minor": 5
}
